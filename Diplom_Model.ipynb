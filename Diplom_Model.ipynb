{
 "cells": [
  {
   "cell_type": "markdown",
   "id": "2cefc104-2977-4b49-8d05-4b7f11eaee56",
   "metadata": {},
   "source": [
    "# Построение модели по с использованием ансамблевого обучения \"Случайный лес\" (Random Forest). Сохранение модели."
   ]
  },
  {
   "cell_type": "code",
   "execution_count": 6,
   "id": "5762321c-fd5c-45e2-b47e-573550d60996",
   "metadata": {},
   "outputs": [
    {
     "name": "stdout",
     "output_type": "stream",
     "text": [
      "Accuracy: 0.9005824965157417\n",
      "Classification Report:\n",
      "               precision    recall  f1-score   support\n",
      "\n",
      "          41       0.91      0.65      0.76      9352\n",
      "          42       0.92      0.92      0.92     24032\n",
      "          43       0.86      0.92      0.89     32483\n",
      "          71       0.95      0.96      0.96     18082\n",
      "\n",
      "    accuracy                           0.90     83949\n",
      "   macro avg       0.91      0.86      0.88     83949\n",
      "weighted avg       0.90      0.90      0.90     83949\n",
      "\n"
     ]
    },
    {
     "data": {
      "text/plain": [
       "['vectorizer.pkl']"
      ]
     },
     "execution_count": 6,
     "metadata": {},
     "output_type": "execute_result"
    }
   ],
   "source": [
    "import pandas as pd\n",
    "import joblib\n",
    "import matplotlib.pyplot as plt\n",
    "from sklearn.model_selection import train_test_split, cross_val_score\n",
    "from sklearn.feature_extraction.text import CountVectorizer\n",
    "from sklearn.ensemble import RandomForestClassifier\n",
    "from sklearn.metrics import classification_report, accuracy_score\n",
    "#from sklearn.externals import joblib  # Импортируем joblib для сохранения модели\n",
    "    \n",
    "# Шаг 1: Загружаем данные\n",
    "file_path = 'D:\\\\new_fz_output_final.csv'\n",
    "df = pd.read_csv(file_path)\n",
    "    \n",
    "# Убедимся, что в данных нет пропусков\n",
    "df.dropna(subset=['Описание', 'Код_ОКПО-2'], inplace=True)\n",
    "    \n",
    "# Шаг 2: Разделяем данные на обучающую и тестовую выборки\n",
    "X = df['Описание']\n",
    "y = df['Код_ОКПО-2']\n",
    "X_train, X_test, y_train, y_test = train_test_split(X, y, test_size=0.2, random_state=42)\n",
    "    \n",
    "# Шаг 3: Преобразуем текстовые данные в векторы\n",
    "vectorizer = CountVectorizer()\n",
    "X_train_vec = vectorizer.fit_transform(X_train)\n",
    "X_test_vec = vectorizer.transform(X_test)\n",
    "    \n",
    "# Шаг 4: Создаем и обучаем модель\n",
    "model = RandomForestClassifier(n_estimators=100, random_state=42)\n",
    "cv_scores = cross_val_score(model, X_train_vec, y_train, cv=5)\n",
    "model.fit(X_train_vec, y_train)\n",
    "    \n",
    "# Шаг 5: Делаем предсказания и оцениваем модель\n",
    "y_pred = model.predict(X_test_vec)\n",
    "print(\"Accuracy:\", accuracy_score(y_test, y_pred))\n",
    "print(\"Classification Report:\\n\", classification_report(y_test, y_pred))\n",
    "    \n",
    "# Сохраняем модель и векторизатор\n",
    "joblib.dump(model, 'random_forest_model.pkl')\n",
    "joblib.dump(vectorizer, 'vectorizer.pkl')"
   ]
  },
  {
   "cell_type": "markdown",
   "id": "46303500-9e28-4409-b311-ed13672f2087",
   "metadata": {},
   "source": [
    "# Разрабатываем консольное приложение по определению кода ОКПО-2 по входному тексту."
   ]
  },
  {
   "cell_type": "code",
   "execution_count": 2,
   "id": "19a1e420-c85b-40cf-822b-78524286bdbd",
   "metadata": {},
   "outputs": [
    {
     "name": "stdout",
     "output_type": "stream",
     "text": [
      "C:\\Users\\Димка\n"
     ]
    },
    {
     "name": "stderr",
     "output_type": "stream",
     "text": [
      "[nltk_data] Downloading package punkt to\n",
      "[nltk_data]     C:\\Users\\Димка\\AppData\\Roaming\\nltk_data...\n",
      "[nltk_data]   Package punkt is already up-to-date!\n",
      "[nltk_data] Downloading package stopwords to\n",
      "[nltk_data]     C:\\Users\\Димка\\AppData\\Roaming\\nltk_data...\n",
      "[nltk_data]   Package stopwords is already up-to-date!\n"
     ]
    },
    {
     "name": "stdout",
     "output_type": "stream",
     "text": [
      "Добро пожаловать в классификатор\n"
     ]
    },
    {
     "name": "stdin",
     "output_type": "stream",
     "text": [
      "Введите предложение (или 'exit' для выхода):  прочая закупка услуг (услуги по монтажу и пусконаладке вытяжных систем вентиляции в производственных помещениях раскройного участка швейного цеха)\n"
     ]
    },
    {
     "name": "stdout",
     "output_type": "stream",
     "text": [
      "Обработанный текст: проч закупк услуг услуг монтаж пусконаладк вытяжн сист вентиляц производствен помещен раскройн участк швейн цех\n",
      "Предсказанный класс: 43\n",
      "Код ОКПО-2 для этого класса: 43\n"
     ]
    },
    {
     "name": "stdin",
     "output_type": "stream",
     "text": [
      "Введите предложение (или 'exit' для выхода):  Поставка металлических секций ограждения\n"
     ]
    },
    {
     "name": "stdout",
     "output_type": "stream",
     "text": [
      "Обработанный текст: поставк металлическ секц огражден\n",
      "Предсказанный класс: 42\n",
      "Код ОКПО-2 для этого класса: 42\n"
     ]
    },
    {
     "name": "stdin",
     "output_type": "stream",
     "text": [
      "Введите предложение (или 'exit' для выхода):  Газификация здания прокуратуры Ахтынского района Республики Дагестан\n"
     ]
    },
    {
     "name": "stdout",
     "output_type": "stream",
     "text": [
      "Обработанный текст: газификац здан прокуратур ахтынск район республик дагеста\n",
      "Предсказанный класс: 41\n",
      "Код ОКПО-2 для этого класса: 41\n"
     ]
    },
    {
     "name": "stdin",
     "output_type": "stream",
     "text": [
      "Введите предложение (или 'exit' для выхода):  Выполнение кадастровых работ и постановку на кадастровый учет зданий\n"
     ]
    },
    {
     "name": "stdout",
     "output_type": "stream",
     "text": [
      "Обработанный текст: выполнен кадастров работ постановк кадастров учет здан\n",
      "Предсказанный класс: 71\n",
      "Код ОКПО-2 для этого класса: 71\n"
     ]
    },
    {
     "name": "stdin",
     "output_type": "stream",
     "text": [
      "Введите предложение (или 'exit' для выхода):  Монтаж и демонтаж дорожных знаков согласно ГОСТ Р 52290-2004, замена устаревших знаков\n"
     ]
    },
    {
     "name": "stdout",
     "output_type": "stream",
     "text": [
      "Обработанный текст: монтаж демонтаж дорожн знак согласн гост р зам устаревш знак\n",
      "Предсказанный класс: 42\n",
      "Код ОКПО-2 для этого класса: 42\n"
     ]
    },
    {
     "name": "stdin",
     "output_type": "stream",
     "text": [
      "Введите предложение (или 'exit' для выхода):  На поставку специальных средств при нарушениях функций выделения  для обеспечения инвалидов  в 2022 году\n"
     ]
    },
    {
     "name": "stdout",
     "output_type": "stream",
     "text": [
      "Обработанный текст: поставк специальн средств нарушен функц выделен обеспечен инвалид год\n",
      "Предсказанный класс: 71\n",
      "Код ОКПО-2 для этого класса: 71\n"
     ]
    },
    {
     "name": "stdin",
     "output_type": "stream",
     "text": [
      "Введите предложение (или 'exit' для выхода):  exit\n"
     ]
    },
    {
     "name": "stdout",
     "output_type": "stream",
     "text": [
      "Выход из приложения.\n"
     ]
    }
   ],
   "source": [
    "import joblib  \n",
    "import re  \n",
    "import nltk  \n",
    "from nltk.tokenize import word_tokenize  \n",
    "from nltk.stem import SnowballStemmer  \n",
    "from nltk.corpus import stopwords  \n",
    "import os  \n",
    "\n",
    "# Печатаем текущую директорию  \n",
    "print(os.getcwd())  \n",
    "\n",
    "# Загрузка необходимых ресурсов NLTK  \n",
    "nltk.download('punkt')  \n",
    "nltk.download('stopwords')  \n",
    "\n",
    "# Инициализация стеммера и стоп-слов  \n",
    "stemmer = SnowballStemmer('russian')  \n",
    "stop_words = set(stopwords.words('russian'))  \n",
    "\n",
    "class NLP:  \n",
    "    def __init__(self, text):  \n",
    "        self.text = text  \n",
    "\n",
    "    def preprocess_text(self):  \n",
    "        # Приведение к нижнему регистру и очистка текста от специальных символов  \n",
    "        text = re.sub(r'[^а-яА-ЯёЁ\\s]', '', self.text.lower())  \n",
    "        # Токенизация и удаление стоп-слов, стемминг  \n",
    "        processed_tokens = [stemmer.stem(token) for token in word_tokenize(text) if token not in stop_words]  \n",
    "        return ' '.join(processed_tokens)  \n",
    "\n",
    "def load_model_and_vectorizer():  \n",
    "    model = joblib.load('random_forest_model.pkl')  \n",
    "    vectorizer = joblib.load('vectorizer.pkl')  \n",
    "    return model, vectorizer  \n",
    "\n",
    "def classify_input(input_text, model, vectorizer):  \n",
    "    input_vec = vectorizer.transform([input_text])  \n",
    "    prediction = model.predict(input_vec)  \n",
    "    return prediction[0]  \n",
    "\n",
    "def main():  \n",
    "    print(\"Добро пожаловать в классификатор\")  \n",
    "    model, vectorizer = load_model_and_vectorizer()  \n",
    "    \n",
    "    # Пример соответствия классов и групп ОКПО-2  \n",
    "    class_to_okpo = {41, 42, 43, 71, 'Прочие'}  \n",
    "\n",
    "    while True:  \n",
    "        user_input = input(\"Введите предложение (или 'exit' для выхода): \")  \n",
    "        if user_input.lower() == 'exit':  \n",
    "            print(\"Выход из приложения.\")  \n",
    "            break  \n",
    "\n",
    "        # Создание экземпляра NLP для предобработки текста  \n",
    "        nlp = NLP(user_input)  \n",
    "        processed_input = nlp.preprocess_text()  \n",
    "        print(\"Обработанный текст:\", processed_input)  \n",
    "        \n",
    "        # Классификация обработанного текста  \n",
    "        prediction = classify_input(processed_input, model, vectorizer)  \n",
    "        print(\"Предсказанная группа:\", prediction)  \n",
    "\n",
    "        # Проверяем нахождение предсказанного класса в нашем словаре  \n",
    "        if prediction in class_to_okpo:  \n",
    "            print(f\"Код ОКПО-2 для этой группы: {prediction}\")  \n",
    "        else:  \n",
    "            print(\"Ваше предложение относится к группе: 'Прочие'\")  \n",
    "\n",
    "if __name__ == \"__main__\":  \n",
    "    main()"
   ]
  },
  {
   "cell_type": "code",
   "execution_count": null,
   "id": "7b03f667-d435-4393-abc3-8ff534652d4d",
   "metadata": {},
   "outputs": [],
   "source": []
  }
 ],
 "metadata": {
  "kernelspec": {
   "display_name": "Python 3 (ipykernel)",
   "language": "python",
   "name": "python3"
  },
  "language_info": {
   "codemirror_mode": {
    "name": "ipython",
    "version": 3
   },
   "file_extension": ".py",
   "mimetype": "text/x-python",
   "name": "python",
   "nbconvert_exporter": "python",
   "pygments_lexer": "ipython3",
   "version": "3.12.7"
  }
 },
 "nbformat": 4,
 "nbformat_minor": 5
}
